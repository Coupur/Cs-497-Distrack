{
  "cells": [
    {
      "cell_type": "markdown",
      "metadata": {
        "id": "A4D9TJxoXK5g"
      },
      "source": []
    },
    {
      "cell_type": "code",
      "execution_count": 25,
      "metadata": {
        "id": "3T6stN7hXUXS"
      },
      "outputs": [],
      "source": [
        "import pandas as pd\n",
        "import re\n",
        "import os\n",
        "from dotenv import load_dotenv\n",
        "from github import Github\n",
        "from tqdm import tqdm\n",
        "import csv\n",
        "import requests\n",
        "\n"
      ]
    },
    {
      "cell_type": "code",
      "execution_count": 5,
      "metadata": {
        "id": "QWG44nxlXV2Q"
      },
      "outputs": [],
      "source": [
        "org_name = \"Rdatatable\"\n",
        "repo_name = \"data.table\"\n",
        "\n",
        "reponame_noperiod = repo_name.replace(\".\", \"\")\n",
        "reponame_noperiod = reponame_noperiod.replace(\"_\", \"\")\n",
        "reponame_noperiod = reponame_noperiod.lower()"
      ]
    },
    {
      "cell_type": "code",
      "execution_count": null,
      "metadata": {
        "id": "y8SAcERvX7a1"
      },
      "outputs": [
        {
          "data": {
            "text/plain": [
              "(4996, 5000)"
            ]
          },
          "execution_count": 6,
          "metadata": {},
          "output_type": "execute_result"
        }
      ],
      "source": [
        "g = Github(secret)\n",
        "org = g.get_organization(org_name)\n",
        "repo = org.get_repo(repo_name)\n",
        "g.rate_limiting"
      ]
    },
    {
      "cell_type": "code",
      "execution_count": 21,
      "metadata": {
        "colab": {
          "base_uri": "https://localhost:8080/"
        },
        "id": "evnLUhviX_iw",
        "outputId": "0f3cd959-1716-47b2-d8b6-a2162ddbddd8"
      },
      "outputs": [
        {
          "name": "stdout",
          "output_type": "stream",
          "text": [
            "Pull Request file exist\n",
            "Pull Request Comments file exist\n",
            "Issues Request file exists\n",
            "Issues Request Comments file exists\n"
          ]
        }
      ],
      "source": [
        "file_path_comments = f'Files/{org_name.lower()}_{reponame_noperiod}_pull_request_comments.xlsx'\n",
        "\n",
        "file_path = f'Files/{org_name.lower()}_{reponame_noperiod}_pull_requests.xlsx'\n",
        "\n",
        "# Check if the file exists\n",
        "if os.path.exists(file_path):\n",
        "    existing_pull_df = pd.read_excel(file_path, engine='openpyxl')\n",
        "    print(\"Pull Request file exist\")\n",
        "else:\n",
        "    existing_pull_df = pd.DataFrame()\n",
        "    print(\"Error:Pull Request file does not exist \", file_path)\n",
        "\n",
        "if os.path.exists(file_path_comments):\n",
        "    existing_pull_df_comments = pd.read_excel(file_path_comments, engine='openpyxl')\n",
        "    print(\"Pull Request Comments file exist\")\n",
        "else:\n",
        "    existing_pull_df_comments = pd.DataFrame()\n",
        "    print(\"Error:Pull Request Comments file does not exist \",file_path_comments)\n",
        "\n",
        "# Define the file path\n",
        "file_path_comments = f'Files/{org_name.lower()}_{reponame_noperiod}_issues_comments.xlsx'\n",
        "\n",
        "file_path = f'Files/{org_name.lower()}_{reponame_noperiod}_issues.xlsx'\n",
        "\n",
        "# Check if the file exists\n",
        "if os.path.exists(file_path):\n",
        "    existing_issues_df = pd.read_excel(file_path, engine='openpyxl')\n",
        "    print(\"Issues Request file exists\")\n",
        "else:\n",
        "    existing_issues_df = pd.DataFrame()\n",
        "    print(\"Error: Issues Request file does not exist \", file_path )\n",
        "if os.path.exists(file_path_comments):\n",
        "    existing_issues_df_comments = pd.read_excel(file_path_comments, engine='openpyxl')\n",
        "    print(\"Issues Request Comments file exists\")\n",
        "else:\n",
        "    existing_issues_df_comments = pd.DataFrame()\n",
        "    print(\"Error: Issues Comments file does not exist \", file_path_comments)\n",
        "\n",
        "existing_pull_df['created_by'] = existing_pull_df['created_by'].apply(lambda x: x.split('/')[-1])\n",
        "existing_issues_df['created_by'] = existing_issues_df['created_by'].apply(lambda x: x.split('/')[-1])\n",
        "existing_pull_df_comments['created_by'] = existing_pull_df_comments['created_by'].apply(lambda x: re.search(r'login=\"([^\"]+)\"', x).group(1))\n",
        "existing_issues_df_comments['created_by'] = existing_issues_df_comments['created_by'].apply(lambda x: re.search(r'login=\"([^\"]+)\"', x).group(1))"
      ]
    },
    {
      "cell_type": "code",
      "execution_count": 22,
      "metadata": {
        "colab": {
          "base_uri": "https://localhost:8080/"
        },
        "id": "-FDUXcaxZbvu",
        "outputId": "84fbb6dc-658d-43d5-828a-61ce4b8079aa"
      },
      "outputs": [
        {
          "name": "stdout",
          "output_type": "stream",
          "text": [
            "Merged DataFrame:\n",
            "       created_by  Frequency_pulls  Frequency_pull_comments  Frequency_issues  \\\n",
            "0         0xorial              0.0                      0.0               0.0   \n",
            "1         123saga              0.0                      0.0               1.0   \n",
            "2           2005m              9.0                     56.0               6.0   \n",
            "3     AKRosenblad              0.0                      0.0               1.0   \n",
            "4        APLevine              0.0                      0.0               1.0   \n",
            "...           ...              ...                      ...               ...   \n",
            "1741   zlskidmore              0.0                      0.0               0.0   \n",
            "1742    zoushucai              0.0                      0.0               0.0   \n",
            "1743     zuoliang              0.0                      0.0               1.0   \n",
            "1744         zwep              0.0                      0.0               1.0   \n",
            "1745       zx8754              0.0                      0.0               5.0   \n",
            "\n",
            "      Frequency_issues_comments  \n",
            "0                           1.0  \n",
            "1                           0.0  \n",
            "2                          58.0  \n",
            "3                           0.0  \n",
            "4                           2.0  \n",
            "...                         ...  \n",
            "1741                        1.0  \n",
            "1742                        3.0  \n",
            "1743                        0.0  \n",
            "1744                        1.0  \n",
            "1745                        6.0  \n",
            "\n",
            "[1746 rows x 5 columns]\n"
          ]
        }
      ],
      "source": [
        "def get_user_data(df, column_name):\n",
        "    if column_name in df.columns:\n",
        "        user_counts = df[column_name].value_counts().reset_index()\n",
        "        user_counts.columns = [column_name, 'Frequency']\n",
        "        return user_counts\n",
        "    else:\n",
        "        print(f\"Column '{column_name}' not found in DataFrame\")\n",
        "        return pd.DataFrame()\n",
        "\n",
        "# Get unique users and their frequency for pull requests\n",
        "pull_user_frequency = get_user_data(existing_pull_df, 'created_by')\n",
        "\n",
        "# Get unique users and their frequency for pull request comments\n",
        "pull_comments_user_frequency = get_user_data(existing_pull_df_comments, 'created_by')\n",
        "\n",
        "# Get unique users and their frequency for issues\n",
        "issues_user_frequency = get_user_data(existing_issues_df, 'created_by')\n",
        "\n",
        "# Get unique users and their frequency for issues comments\n",
        "issues_comments_user_frequency = get_user_data(existing_issues_df_comments, 'created_by')\n",
        "\n",
        "# Optionally, save the results to Excel files\n",
        "pull_user_frequency.to_excel(f'Files/{org_name.lower()}_{reponame_noperiod}_pull_user_frequency.xlsx', index=False)\n",
        "pull_comments_user_frequency.to_excel(f'Files/{org_name.lower()}_{reponame_noperiod}_pull_comments_user_frequency.xlsx', index=False)\n",
        "issues_user_frequency.to_excel(f'Files/{org_name.lower()}_{reponame_noperiod}_issues_user_frequency.xlsx', index=False)\n",
        "issues_comments_user_frequency.to_excel(f'Files/{org_name.lower()}_{reponame_noperiod}_issues_comments_user_frequency.xlsx', index=False)\n",
        "\n",
        "\n",
        "# Merge the dataframes on 'created_by' column\n",
        "merged_df = pull_user_frequency.merge(pull_comments_user_frequency, on='created_by', how='outer', suffixes=('_pulls', '_pull_comments'))\n",
        "merged_df = merged_df.merge(issues_user_frequency, on='created_by', how='outer')\n",
        "merged_df = merged_df.merge(issues_comments_user_frequency, on='created_by', how='outer', suffixes=('_issues', '_issues_comments'))\n",
        "\n",
        "# Rename columns for clarity\n",
        "merged_df.columns = ['created_by', 'Frequency_pulls', 'Frequency_pull_comments', 'Frequency_issues', 'Frequency_issues_comments']\n",
        "\n",
        "# Fill NaN values with 0\n",
        "merged_df = merged_df.fillna(0)\n",
        "\n",
        "# Save the merged dataframe to an Excel file\n",
        "merged_df.to_excel(f'Files/{org_name.lower()}_{reponame_noperiod}_user_activity_summary.xlsx', index=False)\n",
        "\n",
        "\n",
        "print(\"Merged DataFrame:\")\n",
        "print(merged_df)"
      ]
    },
    {
      "cell_type": "code",
      "execution_count": null,
      "metadata": {},
      "outputs": [],
      "source": [
        "\n",
        "\n",
        "# Read the list of users from the CSV file\n",
        "users = merged_df['created_by'].tolist()\n",
        "\n",
        "def fetch_user_events(username, token):\n",
        "    url = f\"https://api.github.com/users/{username}/events\"\n",
        "    headers = {'Authorization': f'token {token}'}\n",
        "    response = requests.get(url, headers=headers)\n",
        "    \n",
        "    if response.status_code == 200:\n",
        "        events = response.json()\n",
        "        important_events = []\n",
        "        \n",
        "        for event in events:\n",
        "            event_type = event['type']\n",
        "            \n",
        "            # Filter for PushEvent, IssuesEvent, and IssueCommentEvent\n",
        "            if event_type in ['PushEvent', 'IssuesEvent', 'IssueCommentEvent', 'PullRequestEvent']:\n",
        "                important_event = {\n",
        "                    'username': username,\n",
        "                    'type': event_type,\n",
        "                    'created_at': event['created_at'],\n",
        "                    'repo': event['repo']['name'],\n",
        "                    'public': event['public']\n",
        "                }\n",
        "                \n",
        "                # Add additional details based on event type\n",
        "                if event_type == 'PushEvent':\n",
        "                    important_event['commit_count'] = len(event['payload']['commits'])\n",
        "                    important_event['branch'] = event['payload']['ref'].split('/')[-1]  # Extract branch name\n",
        "                \n",
        "                elif event_type == 'IssuesEvent':\n",
        "                    important_event['action'] = event['payload']['action']  # e.g., opened, closed\n",
        "                    important_event['issue_id'] = event['payload']['issue']['id']\n",
        "                    important_event['issue_title'] = event['payload']['issue']['title']\n",
        "                \n",
        "                elif event_type == 'IssueCommentEvent':\n",
        "                    important_event['comment_id'] = event['payload']['comment']['id']\n",
        "                    important_event['issue_id'] = event['payload']['issue']['id']\n",
        "                    important_event['issue_title'] = event['payload']['issue']['title']\n",
        "                \n",
        "                elif event_type == 'PullRequestEvent':\n",
        "                    important_event['action'] = event['payload']['action']  # e.g., opened, closed, merged\n",
        "                    important_event['pr_id'] = event['payload']['pull_request']['id']\n",
        "                    important_event['pr_title'] = event['payload']['pull_request']['title']\n",
        "                    important_event['pr_state'] = event['payload']['pull_request']['state']\n",
        "                    important_event['pr_merged'] = event['payload']['pull_request']['merged']\n",
        "                    important_event['pr_commits'] = event['payload']['pull_request']['commits']\n",
        "                    important_event['pr_additions'] = event['payload']['pull_request']['additions']\n",
        "                    important_event['pr_deletions'] = event['payload']['pull_request']['deletions']\n",
        "                \n",
        "                important_events.append(important_event)\n",
        "        \n",
        "        return important_events\n",
        "    else:\n",
        "        print(f\"Failed to fetch events for {username}: {response.status_code}\")\n",
        "        return []\n"
      ]
    },
    {
      "cell_type": "code",
      "execution_count": 45,
      "metadata": {},
      "outputs": [
        {
          "name": "stdout",
          "output_type": "stream",
          "text": [
            "Data saved to arunsrinivasan_events.xlsx\n"
          ]
        }
      ],
      "source": [
        "\n",
        "def fetch_user_events(username, token):\n",
        "    url = f\"https://api.github.com/users/{username}/events\"\n",
        "    headers = {'Authorization': f'token {token}'} if token else {}\n",
        "    \n",
        "    response = requests.get(url, headers=headers)\n",
        "    \n",
        "    if response.status_code == 200:\n",
        "        events = response.json()\n",
        "        filtered_events = []\n",
        "        \n",
        "        for event in events:\n",
        "            event_type = event['type']\n",
        "            if event_type in ['PushEvent', 'IssuesEvent', 'IssueCommentEvent', 'PullRequestEvent']:\n",
        "                filtered_events.append({\n",
        "                    'username': username,\n",
        "                    'type': event_type,\n",
        "                    'created_at': event['created_at'],\n",
        "                    'repo': event['repo']['name'],\n",
        "                    'public': event['public']\n",
        "                })\n",
        "        \n",
        "        return filtered_events\n",
        "    else:\n",
        "        print(f\"Failed to fetch events: {response.status_code}\")\n",
        "        return []\n",
        "\n",
        "def save_to_excel(data, filename):\n",
        "    df = pd.DataFrame(data)\n",
        "    df.to_excel(filename, index=False)\n",
        "\n",
        "\n",
        "events = fetch_user_events(\"jangorecki\"  , secret)\n",
        "\n",
        "if events:\n",
        "    save_to_excel(events, f\"{username}_events.xlsx\")\n",
        "    print(f\"Data saved to {username}_events.xlsx\")\n",
        "else:\n",
        "    print(\"No events found or failed to fetch events.\")"
      ]
    },
    {
      "cell_type": "code",
      "execution_count": 44,
      "metadata": {},
      "outputs": [
        {
          "name": "stdout",
          "output_type": "stream",
          "text": [
            "Events for 0xorial saved to Files/0xorial_events.xlsx\n"
          ]
        }
      ],
      "source": [
        "users_0_list = fetch_user_events(\"jangorecki\"  , secret)\n",
        "\n",
        "# Convert users_0_list to a DataFrame\n",
        "users_0_df = pd.DataFrame(users_0_list)\n",
        "\n",
        "# Define the file path for the new Excel file\n",
        "users_0_file_path = f'Files/{users[0]}_events.xlsx'\n",
        "\n",
        "# Save the DataFrame to an Excel file\n",
        "users_0_df.to_excel(users_0_file_path, index=False)\n",
        "\n",
        "print(f\"Events for {users[0]} saved to {users_0_file_path}\")\n",
        "\n"
      ]
    },
    {
      "cell_type": "code",
      "execution_count": 37,
      "metadata": {},
      "outputs": [
        {
          "data": {
            "text/plain": [
              "[{'username': '0xorial',\n",
              "  'type': 'IssueCommentEvent',\n",
              "  'created_at': '2025-01-23T20:44:48Z',\n",
              "  'repo': 'rust-lang/rust-analyzer',\n",
              "  'public': True,\n",
              "  'comment_id': 2610980172,\n",
              "  'issue_id': 2677614346,\n",
              "  'issue_title': '\"Go To References\" for `PartialOrd` functions should find comparison operators'},\n",
              " {'username': '0xorial',\n",
              "  'type': 'IssueCommentEvent',\n",
              "  'created_at': '2025-01-21T11:58:06Z',\n",
              "  'repo': 'element-hq/element-desktop',\n",
              "  'public': True,\n",
              "  'comment_id': 2604527765,\n",
              "  'issue_id': 2796031806,\n",
              "  'issue_title': 'None of the old messages are decrypted.'},\n",
              " {'username': '0xorial',\n",
              "  'type': 'IssuesEvent',\n",
              "  'created_at': '2025-01-21T11:42:13Z',\n",
              "  'repo': 'orvium/orvium',\n",
              "  'public': True,\n",
              "  'action': 'opened',\n",
              "  'issue_id': 2801585858,\n",
              "  'issue_title': 'Project status clarification'},\n",
              " {'username': '0xorial',\n",
              "  'type': 'IssueCommentEvent',\n",
              "  'created_at': '2025-01-20T15:40:40Z',\n",
              "  'repo': 'element-hq/element-desktop',\n",
              "  'public': True,\n",
              "  'comment_id': 2602737255,\n",
              "  'issue_id': 2796031806,\n",
              "  'issue_title': 'None of the old messages are decrypted.'},\n",
              " {'username': '0xorial',\n",
              "  'type': 'IssueCommentEvent',\n",
              "  'created_at': '2025-01-20T15:38:00Z',\n",
              "  'repo': 'element-hq/element-desktop',\n",
              "  'public': True,\n",
              "  'comment_id': 2602731072,\n",
              "  'issue_id': 2796031806,\n",
              "  'issue_title': 'None of the old messages are decrypted.'},\n",
              " {'username': '0xorial',\n",
              "  'type': 'IssuesEvent',\n",
              "  'created_at': '2025-01-17T18:06:47Z',\n",
              "  'repo': 'element-hq/element-desktop',\n",
              "  'public': True,\n",
              "  'action': 'opened',\n",
              "  'issue_id': 2796031806,\n",
              "  'issue_title': 'None of the old messages are decrypted.'}]"
            ]
          },
          "execution_count": 37,
          "metadata": {},
          "output_type": "execute_result"
        }
      ],
      "source": [
        "users_0_list"
      ]
    },
    {
      "cell_type": "code",
      "execution_count": null,
      "metadata": {},
      "outputs": [],
      "source": [
        "# Fetch events for each user and save to a new file\n",
        "for user in users:\n",
        "    events = fetch_user_events(user, secret)\n",
        "    if events:\n",
        "        user_file_path = f'Files/{user}_events.json'\n",
        "        with open(user_file_path, 'w') as user_file:\n",
        "            json.dump(events, user_file)\n",
        "        print(f\"Events for {user} saved to {user_file_path}\")\n",
        "    else:\n",
        "        print(f\"No events found for {user}\")"
      ]
    }
  ],
  "metadata": {
    "colab": {
      "provenance": []
    },
    "kernelspec": {
      "display_name": "CS485",
      "language": "python",
      "name": "python3"
    },
    "language_info": {
      "codemirror_mode": {
        "name": "ipython",
        "version": 3
      },
      "file_extension": ".py",
      "mimetype": "text/x-python",
      "name": "python",
      "nbconvert_exporter": "python",
      "pygments_lexer": "ipython3",
      "version": "3.11.11"
    }
  },
  "nbformat": 4,
  "nbformat_minor": 0
}
